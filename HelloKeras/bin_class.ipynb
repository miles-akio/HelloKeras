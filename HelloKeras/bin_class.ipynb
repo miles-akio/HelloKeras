{
 "cells": [
  {
   "cell_type": "code",
   "execution_count": 2,
   "id": "374e20ae-46bb-43dd-90a1-b27b0f884dcd",
   "metadata": {},
   "outputs": [
    {
     "name": "stdout",
     "output_type": "stream",
     "text": [
      "TensorFlow version: 2.16.2\n",
      "NumPy version: 1.24.4\n"
     ]
    }
   ],
   "source": [
    "# Import TensorFlow, a popular machine learning library\n",
    "import tensorflow as tf \n",
    "\n",
    "# Import NumPy, a fundamental package for numerical computations\n",
    "import numpy as np \n",
    "\n",
    "# Print the version of TensorFlow being used\n",
    "print(\"TensorFlow version:\", tf.__version__)\n",
    "\n",
    "# Print the version of NumPy being used\n",
    "print(\"NumPy version:\", np.__version__)\n",
    "\n",
    "# Import the IMDb dataset from Keras, a high-level API of TensorFlow\n",
    "from keras.datasets import imdb\n",
    "\n",
    "# Load the IMDb dataset. \n",
    "# The dataset is preprocessed so that only the top 10,000 most frequently occurring words in the dataset are kept.\n",
    "# 'train_data' and 'test_data' contain the actual movie reviews as lists of integers (each representing a word).\n",
    "# 'train_labels' and 'test_labels' contain binary labels (0 for negative, 1 for positive sentiment).\n",
    "(train_data, train_labels), (test_data, test_labels) = imdb.load_data(num_words=10000)\n"
   ]
  },
  {
   "cell_type": "code",
   "execution_count": 3,
   "id": "02edb820-f537-425f-95cb-cbbd412fe2ff",
   "metadata": {},
   "outputs": [
    {
     "data": {
      "text/plain": [
       "1"
      ]
     },
     "execution_count": 3,
     "metadata": {},
     "output_type": "execute_result"
    }
   ],
   "source": [
    "# Display the first sample from the training data\n",
    "# The data corresponds to the input features of the first house in the dataset\n",
    ">>> train_data[0]\n",
    "\n",
    "# Display the target value (label) for the first sample\n",
    "# This is the median value of the house in thousands of dollars\n",
    ">>> train_labels[0]"
   ]
  },
  {
   "cell_type": "code",
   "execution_count": 4,
   "id": "fe8992d2-d129-496a-818f-6f5ab0c1e42e",
   "metadata": {},
   "outputs": [
    {
     "data": {
      "text/plain": [
       "9999"
      ]
     },
     "execution_count": 4,
     "metadata": {},
     "output_type": "execute_result"
    }
   ],
   "source": [
    "# This line of code finds the maximum value across all sequences in the 'train_data'\n",
    "\n",
    "# For each sequence in 'train_data', find the maximum value\n",
    "# 'sequence' is each individual sequence (array of data points) in 'train_data'\n",
    "# 'max(sequence)' finds the maximum value in each individual sequence\n",
    "# '[max(sequence) for sequence in train_data]' creates a list of these maximum values\n",
    "\n",
    "# The outer 'max' function then finds the overall maximum value from this list of max values\n",
    ">>> max([max(sequence) for sequence in train_data])\n"
   ]
  },
  {
   "cell_type": "code",
   "execution_count": 5,
   "id": "2fc56d98-fb8b-4345-99cc-a9dd7db823c5",
   "metadata": {},
   "outputs": [
    {
     "name": "stdout",
     "output_type": "stream",
     "text": [
      "Downloading data from https://storage.googleapis.com/tensorflow/tf-keras-datasets/imdb_word_index.json\n",
      "\u001b[1m1641221/1641221\u001b[0m \u001b[32m━━━━━━━━━━━━━━━━━━━━\u001b[0m\u001b[37m\u001b[0m \u001b[1m0s\u001b[0m 0us/step\n"
     ]
    }
   ],
   "source": [
    "# Retrieve the word index mapping from the IMDb dataset\n",
    "word_index = imdb.get_word_index()                                    \n",
    "\n",
    "# Create a reverse mapping from index to word by swapping keys and values\n",
    "reverse_word_index = dict(\n",
    "    [(value, key) for (key, value) in word_index.items()])            \n",
    "\n",
    "# Decode the first training review by converting indices back to words\n",
    "# The -3 accounts for the offset used in the IMDb word index\n",
    "decoded_review = ' '.join(\n",
    "    [reverse_word_index.get(i - 3, '?') for i in train_data[0]])      "
   ]
  },
  {
   "cell_type": "code",
   "execution_count": 6,
   "id": "d889cea2-d6d1-4b1b-acfb-cfd9554d296d",
   "metadata": {},
   "outputs": [],
   "source": [
    "# Import the NumPy library for numerical operations\n",
    "import numpy as np  \n",
    "\n",
    "# Define a function to vectorize input sequences\n",
    "def vectorize_sequences(sequences, dimension=10000):  \n",
    "    # Initialize a 2D array filled with zeros\n",
    "    results = np.zeros((len(sequences), dimension))  \n",
    "    \n",
    "    # Iterate over each sequence with its index\n",
    "    for i, sequence in enumerate(sequences):  \n",
    "        # Set the corresponding indices to 1 to create a one-hot encoding\n",
    "        results[i, sequence] = 1.  \n",
    "    \n",
    "    # Return the resulting vectorized array\n",
    "    return results  \n",
    "\n",
    "# Vectorize the training data\n",
    "x_train = vectorize_sequences(train_data)  \n",
    "\n",
    "# Vectorize the test data\n",
    "x_test = vectorize_sequences(test_data)  \n"
   ]
  },
  {
   "cell_type": "code",
   "execution_count": 7,
   "id": "b331fb96-660f-46ac-bb55-22c3bef653a4",
   "metadata": {},
   "outputs": [
    {
     "data": {
      "text/plain": [
       "array([0., 1., 1., ..., 0., 0., 0.])"
      ]
     },
     "execution_count": 7,
     "metadata": {},
     "output_type": "execute_result"
    }
   ],
   "source": [
    "# Access the first element of the training dataset\n",
    ">>> x_train[0]"
   ]
  },
  {
   "cell_type": "code",
   "execution_count": 8,
   "id": "1c52a8b3-de0e-40af-89d6-fba1e6368f25",
   "metadata": {},
   "outputs": [],
   "source": [
    "# Convert the training labels to a NumPy array and change the data type to float32\n",
    "y_train = np.asarray(train_labels).astype('float32')\n",
    "\n",
    "# Convert the test labels to a NumPy array and change the data type to float32\n",
    "y_test = np.asarray(test_labels).astype('float32')\n"
   ]
  },
  {
   "cell_type": "code",
   "execution_count": 14,
   "id": "d5586434-32ed-48ff-b865-53ab42880c26",
   "metadata": {},
   "outputs": [
    {
     "data": {
      "text/html": [
       "<pre style=\"white-space:pre;overflow-x:auto;line-height:normal;font-family:Menlo,'DejaVu Sans Mono',consolas,'Courier New',monospace\"><span style=\"font-weight: bold\">Model: \"sequential_2\"</span>\n",
       "</pre>\n"
      ],
      "text/plain": [
       "\u001b[1mModel: \"sequential_2\"\u001b[0m\n"
      ]
     },
     "metadata": {},
     "output_type": "display_data"
    },
    {
     "data": {
      "text/html": [
       "<pre style=\"white-space:pre;overflow-x:auto;line-height:normal;font-family:Menlo,'DejaVu Sans Mono',consolas,'Courier New',monospace\">┏━━━━━━━━━━━━━━━━━━━━━━━━━━━━━━━━━┳━━━━━━━━━━━━━━━━━━━━━━━━┳━━━━━━━━━━━━━━━┓\n",
       "┃<span style=\"font-weight: bold\"> Layer (type)                    </span>┃<span style=\"font-weight: bold\"> Output Shape           </span>┃<span style=\"font-weight: bold\">       Param # </span>┃\n",
       "┡━━━━━━━━━━━━━━━━━━━━━━━━━━━━━━━━━╇━━━━━━━━━━━━━━━━━━━━━━━━╇━━━━━━━━━━━━━━━┩\n",
       "│ dense_3 (<span style=\"color: #0087ff; text-decoration-color: #0087ff\">Dense</span>)                 │ (<span style=\"color: #00d7ff; text-decoration-color: #00d7ff\">None</span>, <span style=\"color: #00af00; text-decoration-color: #00af00\">64</span>)             │           <span style=\"color: #00af00; text-decoration-color: #00af00\">704</span> │\n",
       "├─────────────────────────────────┼────────────────────────┼───────────────┤\n",
       "│ dense_4 (<span style=\"color: #0087ff; text-decoration-color: #0087ff\">Dense</span>)                 │ (<span style=\"color: #00d7ff; text-decoration-color: #00d7ff\">None</span>, <span style=\"color: #00af00; text-decoration-color: #00af00\">1</span>)              │            <span style=\"color: #00af00; text-decoration-color: #00af00\">65</span> │\n",
       "└─────────────────────────────────┴────────────────────────┴───────────────┘\n",
       "</pre>\n"
      ],
      "text/plain": [
       "┏━━━━━━━━━━━━━━━━━━━━━━━━━━━━━━━━━┳━━━━━━━━━━━━━━━━━━━━━━━━┳━━━━━━━━━━━━━━━┓\n",
       "┃\u001b[1m \u001b[0m\u001b[1mLayer (type)                   \u001b[0m\u001b[1m \u001b[0m┃\u001b[1m \u001b[0m\u001b[1mOutput Shape          \u001b[0m\u001b[1m \u001b[0m┃\u001b[1m \u001b[0m\u001b[1m      Param #\u001b[0m\u001b[1m \u001b[0m┃\n",
       "┡━━━━━━━━━━━━━━━━━━━━━━━━━━━━━━━━━╇━━━━━━━━━━━━━━━━━━━━━━━━╇━━━━━━━━━━━━━━━┩\n",
       "│ dense_3 (\u001b[38;5;33mDense\u001b[0m)                 │ (\u001b[38;5;45mNone\u001b[0m, \u001b[38;5;34m64\u001b[0m)             │           \u001b[38;5;34m704\u001b[0m │\n",
       "├─────────────────────────────────┼────────────────────────┼───────────────┤\n",
       "│ dense_4 (\u001b[38;5;33mDense\u001b[0m)                 │ (\u001b[38;5;45mNone\u001b[0m, \u001b[38;5;34m1\u001b[0m)              │            \u001b[38;5;34m65\u001b[0m │\n",
       "└─────────────────────────────────┴────────────────────────┴───────────────┘\n"
      ]
     },
     "metadata": {},
     "output_type": "display_data"
    },
    {
     "data": {
      "text/html": [
       "<pre style=\"white-space:pre;overflow-x:auto;line-height:normal;font-family:Menlo,'DejaVu Sans Mono',consolas,'Courier New',monospace\"><span style=\"font-weight: bold\"> Total params: </span><span style=\"color: #00af00; text-decoration-color: #00af00\">769</span> (3.00 KB)\n",
       "</pre>\n"
      ],
      "text/plain": [
       "\u001b[1m Total params: \u001b[0m\u001b[38;5;34m769\u001b[0m (3.00 KB)\n"
      ]
     },
     "metadata": {},
     "output_type": "display_data"
    },
    {
     "data": {
      "text/html": [
       "<pre style=\"white-space:pre;overflow-x:auto;line-height:normal;font-family:Menlo,'DejaVu Sans Mono',consolas,'Courier New',monospace\"><span style=\"font-weight: bold\"> Trainable params: </span><span style=\"color: #00af00; text-decoration-color: #00af00\">769</span> (3.00 KB)\n",
       "</pre>\n"
      ],
      "text/plain": [
       "\u001b[1m Trainable params: \u001b[0m\u001b[38;5;34m769\u001b[0m (3.00 KB)\n"
      ]
     },
     "metadata": {},
     "output_type": "display_data"
    },
    {
     "data": {
      "text/html": [
       "<pre style=\"white-space:pre;overflow-x:auto;line-height:normal;font-family:Menlo,'DejaVu Sans Mono',consolas,'Courier New',monospace\"><span style=\"font-weight: bold\"> Non-trainable params: </span><span style=\"color: #00af00; text-decoration-color: #00af00\">0</span> (0.00 B)\n",
       "</pre>\n"
      ],
      "text/plain": [
       "\u001b[1m Non-trainable params: \u001b[0m\u001b[38;5;34m0\u001b[0m (0.00 B)\n"
      ]
     },
     "metadata": {},
     "output_type": "display_data"
    }
   ],
   "source": [
    "# Import the Sequential model class from Keras\n",
    "from keras.models import Sequential  \n",
    "\n",
    "# Import Dense and Input layer classes from Keras\n",
    "from keras.layers import Dense, Input  \n",
    "\n",
    "# Create a Sequential model\n",
    "# Instantiate a new Sequential model\n",
    "model = Sequential()  \n",
    "# Add an Input layer (you can specify the input shape here)\n",
    " # Add an Input layer specifying the input shape as a 1D array of length 10\n",
    "model.add(Input(shape=(10,))) \n",
    "\n",
    "# Add a Dense layer\n",
    "# Add a Dense layer with 64 units and ReLU activation function\n",
    "model.add(Dense(64, activation='relu'))  \n",
    "\n",
    "# Add more layers as needed\n",
    "# Add a Dense layer with 1 unit and sigmoid activation for binary classification\n",
    "model.add(Dense(1, activation='sigmoid'))  \n",
    "\n",
    "# Compile the model\n",
    "# Compile the model with Adam optimizer and binary crossentropy loss\n",
    "model.compile(optimizer='adam', loss='binary_crossentropy', metrics=['accuracy'])  \n",
    "\n",
    "# Summary of the model\n",
    "# Print the summary of the model architecture\n",
    "model.summary()  "
   ]
  },
  {
   "cell_type": "code",
   "execution_count": 15,
   "id": "c98abc80-7226-4d48-a91d-a69804683765",
   "metadata": {},
   "outputs": [
    {
     "data": {
      "text/plain": [
       "<Dense name=dense_5, built=False>"
      ]
     },
     "execution_count": 15,
     "metadata": {},
     "output_type": "execute_result"
    }
   ],
   "source": [
    "# Create a Dense layer with 16 units and ReLU activation function\n",
    "Dense(16, activation='relu')"
   ]
  },
  {
   "cell_type": "code",
   "execution_count": 21,
   "id": "01f42d27-532e-4765-b194-1245350bac89",
   "metadata": {},
   "outputs": [],
   "source": [
    "# Import the NumPy library, which is useful for numerical operations and array manipulation\n",
    "import numpy as np"
   ]
  },
  {
   "cell_type": "code",
   "execution_count": 22,
   "id": "84b14421-422b-4ad3-9eb7-322ae0095922",
   "metadata": {},
   "outputs": [],
   "source": [
    "# Define the ReLU (Rectified Linear Unit) function that takes an input x\n",
    "def relu(x):\n",
    "    \n",
    "    # Return the maximum value between 0 and x, applying the ReLU activation\n",
    "    return np.maximum(0, x)\n"
   ]
  },
  {
   "cell_type": "code",
   "execution_count": 24,
   "id": "df6b313c-731b-467b-9b9b-2dd400fe82bc",
   "metadata": {},
   "outputs": [],
   "source": [
    "# Import the NumPy library for numerical operations\n",
    "import numpy as np\n",
    "\n",
    "# Number of features in the input\n",
    "input_dim = 10  \n",
    "\n",
    "# Number of neurons in the layer\n",
    "num_neurons = 5  \n",
    "\n",
    "# Weights initialized randomly for the layer\n",
    "W = np.random.rand(num_neurons, input_dim)  \n",
    "\n",
    "# Bias initialized randomly for each neuron\n",
    "b = np.random.rand(num_neurons, 1)           \n"
   ]
  },
  {
   "cell_type": "code",
   "execution_count": 25,
   "id": "ea07cb7c-ce52-46c3-8d3c-3972243cfece",
   "metadata": {},
   "outputs": [],
   "source": [
    "# Example input vector\n",
    "input = np.random.rand(input_dim, 1)  "
   ]
  },
  {
   "cell_type": "code",
   "execution_count": 26,
   "id": "db1fdc2f-a78b-4b13-b91a-91aba09e0aff",
   "metadata": {},
   "outputs": [],
   "source": [
    "# Define the ReLU (Rectified Linear Unit) activation function\n",
    "def relu(x):\n",
    "    \n",
    "    # Return the maximum value between 0 and x, applying ReLU\n",
    "    return np.maximum(0, x)\n",
    "\n",
    "# Calculate the output by performing a dot product of weights and input, then adding bias, and applying ReLU\n",
    "output = relu(np.dot(W, input) + b)\n"
   ]
  },
  {
   "cell_type": "code",
   "execution_count": 27,
   "id": "23fadd9b-94be-46d2-a41a-6aea30a8adc3",
   "metadata": {},
   "outputs": [],
   "source": [
    "# Importing the models module from Keras\n",
    "from keras import models\n",
    "\n",
    "# Importing the layers module from Keras\n",
    "from keras import layers\n",
    "\n",
    "# Creating a sequential model, which is a linear stack of layers\n",
    "model = models.Sequential()\n",
    "\n",
    "# Adding a dense layer with 16 neurons, ReLU activation, and input shape of 10,000 features\n",
    "model.add(layers.Dense(16, activation='relu', input_shape=(10000,)))\n",
    "\n",
    "# Adding another dense layer with 16 neurons and ReLU activation\n",
    "model.add(layers.Dense(16, activation='relu'))\n",
    "\n",
    "# Adding a final dense layer with 1 neuron and sigmoid activation for binary classification\n",
    "model.add(layers.Dense(1, activation='sigmoid'))\n"
   ]
  },
  {
   "cell_type": "code",
   "execution_count": 28,
   "id": "23093b2d-9fe2-4085-9e0d-1d5be7d1ba58",
   "metadata": {},
   "outputs": [],
   "source": [
    "# Compile the model with specified optimizer, loss function, and evaluation metrics\n",
    "model.compile(optimizer='rmsprop',\n",
    "              \n",
    "              # Use binary cross-entropy loss for binary classification\n",
    "              loss='binary_crossentropy',\n",
    "              \n",
    "              # Track accuracy as a performance metric\n",
    "              metrics=['accuracy'])\n",
    "\n",
    "# Add a dense layer with 1 unit and sigmoid activation for binary output\n",
    "model.add(layers.Dense(1, activation='sigmoid'))\n"
   ]
  },
  {
   "cell_type": "code",
   "execution_count": 30,
   "id": "5cd8fc17-ddeb-4ebc-b93e-c97da3b6ec0e",
   "metadata": {},
   "outputs": [],
   "source": [
    "# Import the optimizers module from the Keras library\n",
    "from keras import optimizers\n",
    "\n",
    "# Compile the model with specified optimizer, loss function, and metrics\n",
    "\n",
    "# Use RMSprop optimizer with a learning rate of 0.001\n",
    "model.compile(optimizer=optimizers.RMSprop(learning_rate=0.001),  \n",
    "\n",
    "              # Specify the loss function as binary crossentropy\n",
    "              loss='binary_crossentropy',  \n",
    "\n",
    "              # Track accuracy as a performance metric\n",
    "              metrics=['accuracy']) \n"
   ]
  },
  {
   "cell_type": "code",
   "execution_count": 32,
   "id": "6dffb195-2c2d-4cf2-8170-5ea29be0c8bf",
   "metadata": {},
   "outputs": [],
   "source": [
    "# Importing the necessary modules from Keras for optimization, loss functions, and metrics\n",
    "from keras import optimizers, losses, metrics\n",
    "\n",
    "# Compiling the model with specified optimizer, loss function, and metrics\n",
    "\n",
    "# Using RMSprop optimizer with a learning rate of 0.001\n",
    "model.compile(optimizer=optimizers.RMSprop(learning_rate=0.001),  \n",
    "\n",
    "               # Setting binary cross-entropy as the loss function for binary classification\n",
    "              loss=losses.binary_crossentropy,            \n",
    "\n",
    "               # Adding binary accuracy as a metric to evaluate the model's performance\n",
    "              metrics=[metrics.binary_accuracy])                  "
   ]
  },
  {
   "cell_type": "code",
   "execution_count": 33,
   "id": "87765056-8e60-40c7-b191-193256a9fffd",
   "metadata": {},
   "outputs": [],
   "source": [
    "# Select the first 10,000 samples from the training data for validation\n",
    "x_val = x_train[:10000]\n",
    "\n",
    "# Create a subset of the training data starting from the 10,001st sample\n",
    "partial_x_train = x_train[10000:]\n",
    "\n",
    "# Select the corresponding labels for the first 10,000 samples for validation\n",
    "y_val = y_train[:10000]\n",
    "\n",
    "# Create a subset of the training labels starting from the 10,001st sample\n",
    "partial_y_train = y_train[10000:]"
   ]
  },
  {
   "cell_type": "code",
   "execution_count": 34,
   "id": "5b20673c-a0a2-4777-9724-d4dbf1bf1f4f",
   "metadata": {},
   "outputs": [
    {
     "name": "stdout",
     "output_type": "stream",
     "text": [
      "Epoch 1/20\n",
      "\u001b[1m30/30\u001b[0m \u001b[32m━━━━━━━━━━━━━━━━━━━━\u001b[0m\u001b[37m\u001b[0m \u001b[1m4s\u001b[0m 108ms/step - acc: 0.6877 - loss: 0.5959 - val_acc: 0.8357 - val_loss: 0.4185\n",
      "Epoch 2/20\n",
      "\u001b[1m30/30\u001b[0m \u001b[32m━━━━━━━━━━━━━━━━━━━━\u001b[0m\u001b[37m\u001b[0m \u001b[1m1s\u001b[0m 21ms/step - acc: 0.8954 - loss: 0.3454 - val_acc: 0.8542 - val_loss: 0.3591\n",
      "Epoch 3/20\n",
      "\u001b[1m30/30\u001b[0m \u001b[32m━━━━━━━━━━━━━━━━━━━━\u001b[0m\u001b[37m\u001b[0m \u001b[1m1s\u001b[0m 21ms/step - acc: 0.9191 - loss: 0.2520 - val_acc: 0.8909 - val_loss: 0.2828\n",
      "Epoch 4/20\n",
      "\u001b[1m30/30\u001b[0m \u001b[32m━━━━━━━━━━━━━━━━━━━━\u001b[0m\u001b[37m\u001b[0m \u001b[1m1s\u001b[0m 24ms/step - acc: 0.9406 - loss: 0.1942 - val_acc: 0.8907 - val_loss: 0.2730\n",
      "Epoch 5/20\n",
      "\u001b[1m30/30\u001b[0m \u001b[32m━━━━━━━━━━━━━━━━━━━━\u001b[0m\u001b[37m\u001b[0m \u001b[1m1s\u001b[0m 21ms/step - acc: 0.9497 - loss: 0.1594 - val_acc: 0.8847 - val_loss: 0.2921\n",
      "Epoch 6/20\n",
      "\u001b[1m30/30\u001b[0m \u001b[32m━━━━━━━━━━━━━━━━━━━━\u001b[0m\u001b[37m\u001b[0m \u001b[1m1s\u001b[0m 19ms/step - acc: 0.9578 - loss: 0.1389 - val_acc: 0.8876 - val_loss: 0.2827\n",
      "Epoch 7/20\n",
      "\u001b[1m30/30\u001b[0m \u001b[32m━━━━━━━━━━━━━━━━━━━━\u001b[0m\u001b[37m\u001b[0m \u001b[1m1s\u001b[0m 19ms/step - acc: 0.9672 - loss: 0.1122 - val_acc: 0.8851 - val_loss: 0.2941\n",
      "Epoch 8/20\n",
      "\u001b[1m30/30\u001b[0m \u001b[32m━━━━━━━━━━━━━━━━━━━━\u001b[0m\u001b[37m\u001b[0m \u001b[1m1s\u001b[0m 21ms/step - acc: 0.9765 - loss: 0.0908 - val_acc: 0.8838 - val_loss: 0.3104\n",
      "Epoch 9/20\n",
      "\u001b[1m30/30\u001b[0m \u001b[32m━━━━━━━━━━━━━━━━━━━━\u001b[0m\u001b[37m\u001b[0m \u001b[1m1s\u001b[0m 22ms/step - acc: 0.9793 - loss: 0.0807 - val_acc: 0.8840 - val_loss: 0.3252\n",
      "Epoch 10/20\n",
      "\u001b[1m30/30\u001b[0m \u001b[32m━━━━━━━━━━━━━━━━━━━━\u001b[0m\u001b[37m\u001b[0m \u001b[1m1s\u001b[0m 20ms/step - acc: 0.9854 - loss: 0.0641 - val_acc: 0.8822 - val_loss: 0.3477\n",
      "Epoch 11/20\n",
      "\u001b[1m30/30\u001b[0m \u001b[32m━━━━━━━━━━━━━━━━━━━━\u001b[0m\u001b[37m\u001b[0m \u001b[1m1s\u001b[0m 24ms/step - acc: 0.9889 - loss: 0.0552 - val_acc: 0.8648 - val_loss: 0.4510\n",
      "Epoch 12/20\n",
      "\u001b[1m30/30\u001b[0m \u001b[32m━━━━━━━━━━━━━━━━━━━━\u001b[0m\u001b[37m\u001b[0m \u001b[1m1s\u001b[0m 30ms/step - acc: 0.9890 - loss: 0.0504 - val_acc: 0.8712 - val_loss: 0.3949\n",
      "Epoch 13/20\n",
      "\u001b[1m30/30\u001b[0m \u001b[32m━━━━━━━━━━━━━━━━━━━━\u001b[0m\u001b[37m\u001b[0m \u001b[1m1s\u001b[0m 19ms/step - acc: 0.9927 - loss: 0.0413 - val_acc: 0.8775 - val_loss: 0.4276\n",
      "Epoch 14/20\n",
      "\u001b[1m30/30\u001b[0m \u001b[32m━━━━━━━━━━━━━━━━━━━━\u001b[0m\u001b[37m\u001b[0m \u001b[1m1s\u001b[0m 20ms/step - acc: 0.9955 - loss: 0.0311 - val_acc: 0.8747 - val_loss: 0.4243\n",
      "Epoch 15/20\n",
      "\u001b[1m30/30\u001b[0m \u001b[32m━━━━━━━━━━━━━━━━━━━━\u001b[0m\u001b[37m\u001b[0m \u001b[1m1s\u001b[0m 24ms/step - acc: 0.9962 - loss: 0.0281 - val_acc: 0.8756 - val_loss: 0.4443\n",
      "Epoch 16/20\n",
      "\u001b[1m30/30\u001b[0m \u001b[32m━━━━━━━━━━━━━━━━━━━━\u001b[0m\u001b[37m\u001b[0m \u001b[1m1s\u001b[0m 26ms/step - acc: 0.9982 - loss: 0.0193 - val_acc: 0.8747 - val_loss: 0.4673\n",
      "Epoch 17/20\n",
      "\u001b[1m30/30\u001b[0m \u001b[32m━━━━━━━━━━━━━━━━━━━━\u001b[0m\u001b[37m\u001b[0m \u001b[1m1s\u001b[0m 23ms/step - acc: 0.9964 - loss: 0.0207 - val_acc: 0.8747 - val_loss: 0.4950\n",
      "Epoch 18/20\n",
      "\u001b[1m30/30\u001b[0m \u001b[32m━━━━━━━━━━━━━━━━━━━━\u001b[0m\u001b[37m\u001b[0m \u001b[1m1s\u001b[0m 22ms/step - acc: 0.9988 - loss: 0.0142 - val_acc: 0.8733 - val_loss: 0.5108\n",
      "Epoch 19/20\n",
      "\u001b[1m30/30\u001b[0m \u001b[32m━━━━━━━━━━━━━━━━━━━━\u001b[0m\u001b[37m\u001b[0m \u001b[1m1s\u001b[0m 25ms/step - acc: 0.9980 - loss: 0.0141 - val_acc: 0.8733 - val_loss: 0.5335\n",
      "Epoch 20/20\n",
      "\u001b[1m30/30\u001b[0m \u001b[32m━━━━━━━━━━━━━━━━━━━━\u001b[0m\u001b[37m\u001b[0m \u001b[1m1s\u001b[0m 19ms/step - acc: 0.9985 - loss: 0.0107 - val_acc: 0.8733 - val_loss: 0.5522\n"
     ]
    }
   ],
   "source": [
    "# Compile the model with the specified optimizer, loss function, and metrics\n",
    "model.compile(optimizer='rmsprop',\n",
    "              \n",
    "              # Use binary crossentropy as the loss function for binary classification\n",
    "              loss='binary_crossentropy',\n",
    "              \n",
    "              # Track accuracy as a metric during training\n",
    "              metrics=['acc'])\n",
    "\n",
    "# Train the model on the training data with specified parameters\n",
    "history = model.fit(partial_x_train,\n",
    "                    \n",
    "                    # Use the corresponding labels for the training data\n",
    "                    partial_y_train,\n",
    "                    \n",
    "                    # Set the number of epochs for training\n",
    "                    epochs=20,\n",
    "                    \n",
    "                    # Define the batch size for training\n",
    "                    batch_size=512,\n",
    "                    \n",
    "                    # Specify the validation data for evaluating the model's performance\n",
    "                    validation_data=(x_val, y_val))\n"
   ]
  },
  {
   "cell_type": "code",
   "execution_count": 35,
   "id": "cc2176d6-4ad9-4705-8b12-0b19ce61548b",
   "metadata": {},
   "outputs": [
    {
     "data": {
      "text/plain": [
       "dict_keys(['acc', 'loss', 'val_acc', 'val_loss'])"
      ]
     },
     "execution_count": 35,
     "metadata": {},
     "output_type": "execute_result"
    }
   ],
   "source": [
    "# Retrieve the history of training metrics from the history object\n",
    ">>> history_dict = history.history\n",
    "\n",
    "# Get the keys of the history dictionary, which represent the metrics tracked during training\n",
    ">>> history_dict.keys()"
   ]
  },
  {
   "cell_type": "code",
   "execution_count": 38,
   "id": "9b467469-50c1-4377-9172-2d8c1dcd0d03",
   "metadata": {},
   "outputs": [
    {
     "name": "stdout",
     "output_type": "stream",
     "text": [
      "Collecting matplotlib\n",
      "  Downloading matplotlib-3.9.2-cp39-cp39-macosx_10_12_x86_64.whl.metadata (11 kB)\n",
      "Collecting contourpy>=1.0.1 (from matplotlib)\n",
      "  Downloading contourpy-1.3.0-cp39-cp39-macosx_10_9_x86_64.whl.metadata (5.4 kB)\n",
      "Collecting cycler>=0.10 (from matplotlib)\n",
      "  Using cached cycler-0.12.1-py3-none-any.whl.metadata (3.8 kB)\n",
      "Collecting fonttools>=4.22.0 (from matplotlib)\n",
      "  Downloading fonttools-4.53.1-cp39-cp39-macosx_10_9_universal2.whl.metadata (162 kB)\n",
      "Collecting kiwisolver>=1.3.1 (from matplotlib)\n",
      "  Downloading kiwisolver-1.4.7-cp39-cp39-macosx_10_9_x86_64.whl.metadata (6.3 kB)\n",
      "Requirement already satisfied: numpy>=1.23 in /opt/anaconda3/envs/tf_env/lib/python3.9/site-packages (from matplotlib) (1.24.4)\n",
      "Requirement already satisfied: packaging>=20.0 in /opt/anaconda3/envs/tf_env/lib/python3.9/site-packages (from matplotlib) (24.1)\n",
      "Collecting pillow>=8 (from matplotlib)\n",
      "  Downloading pillow-10.4.0-cp39-cp39-macosx_10_10_x86_64.whl.metadata (9.2 kB)\n",
      "Collecting pyparsing>=2.3.1 (from matplotlib)\n",
      "  Downloading pyparsing-3.1.4-py3-none-any.whl.metadata (5.1 kB)\n",
      "Requirement already satisfied: python-dateutil>=2.7 in /opt/anaconda3/envs/tf_env/lib/python3.9/site-packages (from matplotlib) (2.9.0.post0)\n",
      "Collecting importlib-resources>=3.2.0 (from matplotlib)\n",
      "  Downloading importlib_resources-6.4.5-py3-none-any.whl.metadata (4.0 kB)\n",
      "Requirement already satisfied: zipp>=3.1.0 in /opt/anaconda3/envs/tf_env/lib/python3.9/site-packages (from importlib-resources>=3.2.0->matplotlib) (3.20.2)\n",
      "Requirement already satisfied: six>=1.5 in /opt/anaconda3/envs/tf_env/lib/python3.9/site-packages (from python-dateutil>=2.7->matplotlib) (1.16.0)\n",
      "Downloading matplotlib-3.9.2-cp39-cp39-macosx_10_12_x86_64.whl (7.9 MB)\n",
      "\u001b[2K   \u001b[90m━━━━━━━━━━━━━━━━━━━━━━━━━━━━━━━━━━━━━━━━\u001b[0m \u001b[32m7.9/7.9 MB\u001b[0m \u001b[31m31.7 MB/s\u001b[0m eta \u001b[36m0:00:00\u001b[0m00:01\u001b[0m\n",
      "\u001b[?25hDownloading contourpy-1.3.0-cp39-cp39-macosx_10_9_x86_64.whl (265 kB)\n",
      "Using cached cycler-0.12.1-py3-none-any.whl (8.3 kB)\n",
      "Downloading fonttools-4.53.1-cp39-cp39-macosx_10_9_universal2.whl (2.8 MB)\n",
      "\u001b[2K   \u001b[90m━━━━━━━━━━━━━━━━━━━━━━━━━━━━━━━━━━━━━━━━\u001b[0m \u001b[32m2.8/2.8 MB\u001b[0m \u001b[31m28.6 MB/s\u001b[0m eta \u001b[36m0:00:00\u001b[0m\n",
      "\u001b[?25hDownloading importlib_resources-6.4.5-py3-none-any.whl (36 kB)\n",
      "Downloading kiwisolver-1.4.7-cp39-cp39-macosx_10_9_x86_64.whl (65 kB)\n",
      "Downloading pillow-10.4.0-cp39-cp39-macosx_10_10_x86_64.whl (3.5 MB)\n",
      "\u001b[2K   \u001b[90m━━━━━━━━━━━━━━━━━━━━━━━━━━━━━━━━━━━━━━━━\u001b[0m \u001b[32m3.5/3.5 MB\u001b[0m \u001b[31m30.8 MB/s\u001b[0m eta \u001b[36m0:00:00\u001b[0m\n",
      "\u001b[?25hDownloading pyparsing-3.1.4-py3-none-any.whl (104 kB)\n",
      "Installing collected packages: pyparsing, pillow, kiwisolver, importlib-resources, fonttools, cycler, contourpy, matplotlib\n",
      "Successfully installed contourpy-1.3.0 cycler-0.12.1 fonttools-4.53.1 importlib-resources-6.4.5 kiwisolver-1.4.7 matplotlib-3.9.2 pillow-10.4.0 pyparsing-3.1.4\n",
      "Note: you may need to restart the kernel to use updated packages.\n"
     ]
    }
   ],
   "source": [
    "# Install the matplotlib library, which is used for plotting and data visualization.\n",
    "pip install matplotlib"
   ]
  },
  {
   "cell_type": "code",
   "execution_count": 39,
   "id": "693c370a-7fe0-4f1f-8c3c-a321d2d0b497",
   "metadata": {},
   "outputs": [
    {
     "data": {
      "image/png": "[encoded data removed]",
      "text/plain": [
       "<Figure size 640x480 with 1 Axes>"
      ]
     },
     "metadata": {},
     "output_type": "display_data"
    }
   ],
   "source": [
    "# Import the pyplot module from matplotlib for plotting\n",
    "import matplotlib.pyplot as plt\n",
    "\n",
    "# Extract the history of training from the history object\n",
    "history_dict = history.history\n",
    "\n",
    "# Get the training loss values from the history dictionary\n",
    "loss_values = history_dict['loss']\n",
    "\n",
    "# Get the validation loss values from the history dictionary\n",
    "val_loss_values = history_dict['val_loss']\n",
    "\n",
    "# Create a range of epoch numbers from 1 to the number of training loss values\n",
    "epochs = range(1, len(loss_values) + 1)\n",
    "\n",
    "# Plot the training loss values against the epoch numbers with blue dots\n",
    "plt.plot(epochs, loss_values, 'bo', label='Training loss')   \n",
    "\n",
    "# Plot the validation loss values against the epoch numbers with a blue line\n",
    "plt.plot(epochs, val_loss_values, 'b', label='Validation loss')      \n",
    "# Set the title of the plot\n",
    "\n",
    "plt.title('Training and validation loss')\n",
    "# Label the x-axis as 'Epochs'\n",
    "plt.xlabel('Epochs')\n",
    "\n",
    "# Label the y-axis as 'Loss'\n",
    "plt.ylabel('Loss')\n",
    "\n",
    "# Add a legend to differentiate between training and validation loss\n",
    "plt.legend()\n",
    "\n",
    "# Display the plot\n",
    "plt.show()\n"
   ]
  },
  {
   "cell_type": "code",
   "execution_count": 41,
   "id": "077c47cb-7178-4689-891c-2ad2be999603",
   "metadata": {},
   "outputs": [
    {
     "data": {
      "image/png": "[encoded data removed]",
      "text/plain": [
       "<Figure size 640x480 with 1 Axes>"
      ]
     },
     "metadata": {},
     "output_type": "display_data"
    }
   ],
   "source": [
    "# Clear the current figure to prepare for new plots\n",
    "plt.clf()                                      \n",
    "\n",
    "# Extract training accuracy from the history dictionary\n",
    "acc = history_dict['acc']\n",
    "\n",
    "# Extract validation accuracy from the history dictionary\n",
    "val_acc = history_dict['val_acc']\n",
    "\n",
    "# Plot training accuracy with blue circles\n",
    "plt.plot(epochs, acc, 'bo', label='Training acc')\n",
    "\n",
    "# Plot validation accuracy with a blue line\n",
    "plt.plot(epochs, val_acc, 'b', label='Validation acc')\n",
    "\n",
    "# Set the title for the accuracy plot\n",
    "plt.title('Training and validation accuracy')\n",
    "\n",
    "# Label the x-axis as 'Epochs'\n",
    "plt.xlabel('Epochs')\n",
    "\n",
    "# Label the y-axis as 'Accuracy'\n",
    "plt.ylabel('Accuracy')\n",
    "\n",
    "# Add a legend to distinguish between training and validation accuracy\n",
    "plt.legend()\n",
    "\n",
    "# Display the plot\n",
    "plt.show()\n",
    "\n",
    "# Create a range of epochs based on the length of loss values\n",
    "epochs = range(1, len(loss_values) + 1)\n",
    "\n",
    "# Plot training loss with blue circles\n",
    "plt.plot(epochs, loss_values, 'bo', label='Training loss')           \n",
    "\n",
    "# Plot validation loss with a blue line\n",
    "plt.plot(epochs, val_loss_values, 'b', label='Validation loss')      \n",
    "\n",
    "# Set the title for the loss plot\n",
    "plt.title('Training and validation loss')\n",
    "\n",
    "# Label the x-axis as 'Epochs'\n",
    "plt.xlabel('Epochs')\n",
    "\n",
    "# Label the y-axis as 'Loss'\n",
    "plt.ylabel('Loss')\n",
    "\n",
    "# Add a legend to distinguish between training and validation loss\n",
    "plt.legend()\n",
    "\n",
    "# Display the plot\n",
    "plt.show()\n"
   ]
  },
  {
   "cell_type": "code",
   "execution_count": 42,
   "id": "165ed944-05e5-4af7-a67e-af51ba4ef6d2",
   "metadata": {},
   "outputs": [
    {
     "name": "stderr",
     "output_type": "stream",
     "text": [
      "/opt/anaconda3/envs/tf_env/lib/python3.9/site-packages/keras/src/layers/core/dense.py:87: UserWarning: Do not pass an `input_shape`/`input_dim` argument to a layer. When using Sequential models, prefer using an `Input(shape)` object as the first layer in the model instead.\n",
      "  super().__init__(activity_regularizer=activity_regularizer, **kwargs)\n"
     ]
    },
    {
     "name": "stdout",
     "output_type": "stream",
     "text": [
      "Epoch 1/4\n",
      "\u001b[1m49/49\u001b[0m \u001b[32m━━━━━━━━━━━━━━━━━━━━\u001b[0m\u001b[37m\u001b[0m \u001b[1m2s\u001b[0m 17ms/step - accuracy: 0.7334 - loss: 0.5544\n",
      "Epoch 2/4\n",
      "\u001b[1m49/49\u001b[0m \u001b[32m━━━━━━━━━━━━━━━━━━━━\u001b[0m\u001b[37m\u001b[0m \u001b[1m1s\u001b[0m 14ms/step - accuracy: 0.9025 - loss: 0.2884\n",
      "Epoch 3/4\n",
      "\u001b[1m49/49\u001b[0m \u001b[32m━━━━━━━━━━━━━━━━━━━━\u001b[0m\u001b[37m\u001b[0m \u001b[1m1s\u001b[0m 19ms/step - accuracy: 0.9223 - loss: 0.2160\n",
      "Epoch 4/4\n",
      "\u001b[1m49/49\u001b[0m \u001b[32m━━━━━━━━━━━━━━━━━━━━\u001b[0m\u001b[37m\u001b[0m \u001b[1m1s\u001b[0m 13ms/step - accuracy: 0.9383 - loss: 0.1763\n",
      "\u001b[1m782/782\u001b[0m \u001b[32m━━━━━━━━━━━━━━━━━━━━\u001b[0m\u001b[37m\u001b[0m \u001b[1m1s\u001b[0m 1ms/step - accuracy: 0.8779 - loss: 0.2993\n"
     ]
    }
   ],
   "source": [
    "# Create a sequential model\n",
    "model = models.Sequential()\n",
    "\n",
    "# Add a dense layer with 16 units, ReLU activation, and input shape of 10000\n",
    "model.add(layers.Dense(16, activation='relu', input_shape=(10000,)))\n",
    "\n",
    "# Add another dense layer with 16 units and ReLU activation\n",
    "model.add(layers.Dense(16, activation='relu'))\n",
    "\n",
    "# Add the output layer with 1 unit and sigmoid activation for binary classification\n",
    "model.add(layers.Dense(1, activation='sigmoid'))\n",
    "\n",
    "# Compile the model with RMSprop optimizer, binary crossentropy loss, and accuracy as a metric\n",
    "model.compile(optimizer='rmsprop',\n",
    "              loss='binary_crossentropy',\n",
    "              metrics=['accuracy'])\n",
    "\n",
    "# Train the model on the training data for 4 epochs with a batch size of 512\n",
    "model.fit(x_train, y_train, epochs=4, batch_size=512)\n",
    "\n",
    "# Evaluate the model on the test data and store the results\n",
    "results = model.evaluate(x_test, y_test)"
   ]
  },
  {
   "cell_type": "code",
   "execution_count": 43,
   "id": "a3c09c1c-7ef1-4301-9ca0-85abb057aafe",
   "metadata": {},
   "outputs": [
    {
     "data": {
      "text/plain": [
       "[0.29546836018562317, 0.8811600208282471]"
      ]
     },
     "execution_count": 43,
     "metadata": {},
     "output_type": "execute_result"
    }
   ],
   "source": [
    "# Returns the results\n",
    ">>> results\n"
   ]
  },
  {
   "cell_type": "code",
   "execution_count": 44,
   "id": "df7533d4-e2ee-49e1-9728-150584f811a9",
   "metadata": {},
   "outputs": [
    {
     "name": "stdout",
     "output_type": "stream",
     "text": [
      "\u001b[1m782/782\u001b[0m \u001b[32m━━━━━━━━━━━━━━━━━━━━\u001b[0m\u001b[37m\u001b[0m \u001b[1m2s\u001b[0m 2ms/step\n"
     ]
    },
    {
     "data": {
      "text/plain": [
       "array([[0.31466994],\n",
       "       [0.99974155],\n",
       "       [0.87967366],\n",
       "       ...,\n",
       "       [0.13276102],\n",
       "       [0.12996458],\n",
       "       [0.7321003 ]], dtype=float32)"
      ]
     },
     "execution_count": 44,
     "metadata": {},
     "output_type": "execute_result"
    }
   ],
   "source": [
    "# Use the trained model to make predictions on the test dataset\n",
    ">>> model.predict(x_test)"
   ]
  }
 ],
 "metadata": {
  "kernelspec": {
   "display_name": "Python 3 (ipykernel)",
   "language": "python",
   "name": "python3"
  },
  "language_info": {
   "codemirror_mode": {
    "name": "ipython",
    "version": 3
   },
   "file_extension": ".py",
   "mimetype": "text/x-python",
   "name": "python",
   "nbconvert_exporter": "python",
   "pygments_lexer": "ipython3",
   "version": "3.9.19"
  }
 },
 "nbformat": 4,
 "nbformat_minor": 5
}
